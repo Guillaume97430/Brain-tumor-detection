{
 "cells": [
  {
   "cell_type": "code",
   "execution_count": 25,
   "id": "cea9f028",
   "metadata": {},
   "outputs": [],
   "source": [
    "import numpy as np\n",
    "import matplotlib.pyplot as plt\n",
    "import tensorflow\n",
    "import os\n",
    "from sklearn.model_selection import train_test_split\n",
    "import shutil"
   ]
  },
  {
   "cell_type": "markdown",
   "id": "42b06fff",
   "metadata": {},
   "source": [
    "# 1. Creating Train and Validation datasets"
   ]
  },
  {
   "cell_type": "code",
   "execution_count": 29,
   "id": "3b5496e0",
   "metadata": {},
   "outputs": [
    {
     "data": {
      "text/plain": [
       "'C:\\\\Users\\\\fonta\\\\deep_learning_projects\\\\Brain_Tumor_Detection'"
      ]
     },
     "execution_count": 29,
     "metadata": {},
     "output_type": "execute_result"
    }
   ],
   "source": [
    "os.getcwd()"
   ]
  },
  {
   "cell_type": "code",
   "execution_count": 27,
   "id": "ec0ddf7a",
   "metadata": {},
   "outputs": [],
   "source": [
    "train_yes, val_yes = train_test_split(os.listdir('brain_mri_images\\\\brain_tumor_dataset\\\\yes'), test_size=0.5)\n",
    "train_no, val_no = train_test_split(os.listdir('brain_mri_images\\\\brain_tumor_dataset\\\\no'), test_size=0.5)"
   ]
  },
  {
   "cell_type": "code",
   "execution_count": 36,
   "id": "009f4a87",
   "metadata": {},
   "outputs": [],
   "source": [
    "def Image_copying(src_path, src_list, dest):\n",
    "    \n",
    "    for image_name in src_list:\n",
    "        shutil.copy(os.path.join(src_path, image_name), dest)"
   ]
  },
  {
   "cell_type": "code",
   "execution_count": 38,
   "id": "1a5b91c3",
   "metadata": {},
   "outputs": [],
   "source": [
    "Image_copying('brain_mri_images\\\\brain_tumor_dataset\\\\yes', train_yes, 'C:\\\\Users\\\\fonta\\\\deep_learning_projects\\\\Brain_Tumor_Detection\\\\brain_mri_images\\\\train\\\\yes')\n",
    "Image_copying('brain_mri_images\\\\brain_tumor_dataset\\\\yes', val_yes, 'C:\\\\Users\\\\fonta\\\\deep_learning_projects\\\\Brain_Tumor_Detection\\\\brain_mri_images\\\\validation\\\\yes')\n",
    "Image_copying('brain_mri_images\\\\brain_tumor_dataset\\\\no', train_no, 'C:\\\\Users\\\\fonta\\\\deep_learning_projects\\\\Brain_Tumor_Detection\\\\brain_mri_images\\\\train\\\\no')\n",
    "Image_copying('brain_mri_images\\\\brain_tumor_dataset\\\\no', val_no, 'C:\\\\Users\\\\fonta\\\\deep_learning_projects\\\\Brain_Tumor_Detection\\\\brain_mri_images\\\\validation\\\\no')"
   ]
  }
 ],
 "metadata": {
  "kernelspec": {
   "display_name": "Python 3",
   "language": "python",
   "name": "python3"
  },
  "language_info": {
   "codemirror_mode": {
    "name": "ipython",
    "version": 3
   },
   "file_extension": ".py",
   "mimetype": "text/x-python",
   "name": "python",
   "nbconvert_exporter": "python",
   "pygments_lexer": "ipython3",
   "version": "3.8.8"
  },
  "widgets": {
   "application/vnd.jupyter.widget-state+json": {
    "state": {},
    "version_major": 2,
    "version_minor": 0
   }
  }
 },
 "nbformat": 4,
 "nbformat_minor": 5
}
